{
  "nbformat": 4,
  "nbformat_minor": 0,
  "metadata": {
    "colab": {
      "name": "TAREA_9.ipynb",
      "provenance": [],
      "collapsed_sections": [],
      "authorship_tag": "ABX9TyPYLrCDlNmrvR0MhDZWmL9J",
      "include_colab_link": true
    },
    "kernelspec": {
      "name": "python3",
      "display_name": "Python 3"
    },
    "language_info": {
      "name": "python"
    }
  },
  "cells": [
    {
      "cell_type": "markdown",
      "metadata": {
        "id": "view-in-github",
        "colab_type": "text"
      },
      "source": [
        "<a href=\"https://colab.research.google.com/github/casandra12/TAREA_9/blob/main/TAREA_9.ipynb\" target=\"_parent\"><img src=\"https://colab.research.google.com/assets/colab-badge.svg\" alt=\"Open In Colab\"/></a>"
      ]
    },
    {
      "cell_type": "code",
      "metadata": {
        "id": "TT0PucP0AqFb"
      },
      "source": [
        "class StackADT:\n",
        "    def __init__(self):\n",
        "        self.__data = list()\n",
        "\n",
        "    def is_empty(self):\n",
        "        return len(self.__data) == 0\n",
        "    \n",
        "    def get_length(self):\n",
        "        return len(self.__data)\n",
        "\n",
        "    def pop(self):\n",
        "        if self.is_empty():\n",
        "            print(\"Pila vacíar\")\n",
        "        else:\n",
        "            return self.__data.pop()\n",
        "\n",
        "    def peek(self):\n",
        "        if self.is_empty():\n",
        "            print(\"Pila vacía\")\n",
        "        else :\n",
        "            return self.__data[-1]\n",
        "    \n",
        "    def push(self, value):\n",
        "        self.__data.append(value)\n",
        "\n",
        "    def to_string(self):\n",
        "        for item in self.__data[::-1]:\n",
        "            print(f'| { item } |')"
      ],
      "execution_count": 6,
      "outputs": []
    },
    {
      "cell_type": "code",
      "metadata": {
        "colab": {
          "base_uri": "https://localhost:8080/"
        },
        "id": "APsv8zaB-PT5",
        "outputId": "c373b931-05e9-4277-ef60-38c91a3b6f06"
      },
      "source": [
        "entrada= open('texto.txt', 'rt') \n",
        "codigo = entrada.read()\n",
        "pilaControl=StackADT()\n",
        "\n",
        "pilaControl.push(\"#\") \n",
        "\n",
        "for letra in codigo:\n",
        "    if letra == '{':\n",
        "        pilaControl.push('{')  \n",
        "        if pilaControl.peek() == '#':\n",
        "            pilaControl.push('{')\n",
        "            break \n",
        "        else:\n",
        "            basura = pilaControl.pop()\n",
        "    elif letra == '(':\n",
        "        pilaControl.push('(') \n",
        "        if pilaControl.peek() == '#':\n",
        "            pilaControl.push('(')\n",
        "            break \n",
        "        else:\n",
        "            basura = pilaControl.pop() \n",
        "    else:\n",
        "        pass\n",
        " \n",
        "if pilaControl.peek() == '#':\n",
        "    print(\"el código proporcionado se encuentra balanceado\")\n",
        "else :\n",
        "    print(\"el código no se encuentra balanceado en llaves { y } o en paréntesis ( y ) de manera correcta\")"
      ],
      "execution_count": 9,
      "outputs": [
        {
          "output_type": "stream",
          "name": "stdout",
          "text": [
            "el código proporcionado se encuentra balanceado\n"
          ]
        }
      ]
    },
    {
      "cell_type": "markdown",
      "metadata": {
        "id": "Qdm5MxzLb55V"
      },
      "source": [
        ""
      ]
    },
    {
      "cell_type": "code",
      "metadata": {
        "id": "Z2cjGz5bApS4"
      },
      "source": [
        ""
      ],
      "execution_count": null,
      "outputs": []
    }
  ]
}